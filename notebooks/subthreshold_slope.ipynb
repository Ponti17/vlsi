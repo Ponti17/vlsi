{
 "cells": [
  {
   "cell_type": "markdown",
   "metadata": {
    "vscode": {
     "languageId": "plaintext"
    }
   },
   "source": [
    "# Subthreshold Slope"
   ]
  },
  {
   "cell_type": "code",
   "execution_count": null,
   "metadata": {},
   "outputs": [],
   "source": [
    "import numpy as np\n",
    "import pandas as pd\n",
    "import matplotlib.pyplot as plt"
   ]
  },
  {
   "cell_type": "code",
   "execution_count": null,
   "metadata": {},
   "outputs": [],
   "source": [
    "csv_path = './data/subthreshold_slope.csv'\n",
    "data = pd.read_csv(csv_path)\n",
    "\n",
    "vgs = data['VGS']\n",
    "M0_100 = data['leafValue( IS(\"/M1/D\") \"temperature\" 100 )']\n",
    "M2_100 = data['leafValue( IS(\"/M2/D\") \"temperature\" 100 )']\n",
    "M0_27 = data['leafValue( IS(\"/M1/D\") \"temperature\" 27 )']\n",
    "M2_27 = data['leafValue( IS(\"/M2/D\") \"temperature\" 27 )']"
   ]
  },
  {
   "cell_type": "code",
   "execution_count": null,
   "metadata": {},
   "outputs": [],
   "source": [
    "fig, axs = plt.subplots(1, 2, figsize=(12, 5))\n",
    "axs[0].plot(vgs, M0_27, label='27C', color='black', linewidth=2)\n",
    "axs[0].plot(vgs, M0_100, label='100C', color='red', linestyle='--', linewidth=2)\n",
    "axs[0].set_yscale('log')\n",
    "axs[0].set_title('M0: 200n/60n')\n",
    "\n",
    "axs[1].plot(vgs, M2_27, label='27C', color='black', linewidth=2)\n",
    "axs[1].plot(vgs, M2_100, label='100C', color='red', linestyle='--', linewidth=2)\n",
    "axs[1].set_yscale('log')\n",
    "axs[1].set_title('M2: 200n/100n')\n",
    "\n",
    "# Perform exponential regression for each dataset without sklearn\n",
    "def perform_exponential_regression(vgs, data):\n",
    "    mask = (vgs >= 0.0) & (vgs <= 0.3)\n",
    "    vgs_filtered = vgs[mask]\n",
    "    data_filtered = data[mask]\n",
    "    log_data_filtered = np.log(data_filtered)\n",
    "    A = np.vstack([vgs_filtered, np.ones(len(vgs_filtered))]).T\n",
    "    slope, intercept = np.linalg.lstsq(A, log_data_filtered, rcond=None)[0]\n",
    "    return slope, intercept\n",
    "\n",
    "# Exponential regression for M0_27\n",
    "slope_M0_27, intercept_M0_27 = perform_exponential_regression(vgs, M0_27)\n",
    "axs[0].plot(vgs, np.exp(slope_M0_27 * vgs + intercept_M0_27), linestyle=':', color='blue')\n",
    "\n",
    "# Exponential regression for M0_100\n",
    "slope_M0_100, intercept_M0_100 = perform_exponential_regression(vgs, M0_100)\n",
    "axs[0].plot(vgs, np.exp(slope_M0_100 * vgs + intercept_M0_100), linestyle=':', color='green')\n",
    "\n",
    "# Exponential regression for M2_27\n",
    "slope_M2_27, intercept_M2_27 = perform_exponential_regression(vgs, M2_27)\n",
    "axs[1].plot(vgs, np.exp(slope_M2_27 * vgs + intercept_M2_27), linestyle=':', color='blue')\n",
    "\n",
    "# Exponential regression for M2_100\n",
    "slope_M2_100, intercept_M2_100 = perform_exponential_regression(vgs, M2_100)\n",
    "axs[1].plot(vgs, np.exp(slope_M2_100 * vgs + intercept_M2_100), linestyle=':', color='green')\n",
    "\n",
    "axs[0].set_ylim(1e-10, 1e-1)\n",
    "axs[1].set_ylim(1e-10, 1e-1)\n",
    "\n",
    "axs[0].legend()\n",
    "axs[1].legend()\n",
    "\n",
    "# Calculate the slope of the exponential function on a log scale\n",
    "def calculate_slope_per_decade(slope):\n",
    "    return 1 / slope\n",
    "\n",
    "# Calculate slopes per decade for each dataset\n",
    "slope_per_decade_M0_27 = calculate_slope_per_decade(slope_M0_27)\n",
    "slope_per_decade_M0_100 = calculate_slope_per_decade(slope_M0_100)\n",
    "slope_per_decade_M2_27 = calculate_slope_per_decade(slope_M2_27)\n",
    "slope_per_decade_M2_100 = calculate_slope_per_decade(slope_M2_100)\n",
    "\n",
    "print(f\"Slope per decade for M0 at 27C: {slope_per_decade_M0_27:.2e} V/decade\")\n",
    "print(f\"Slope per decade for M0 at 100C: {slope_per_decade_M0_100:.2e} V/decade\")\n",
    "print(f\"Slope per decade for M2 at 27C: {slope_per_decade_M2_27:.2e} V/decade\")\n",
    "print(f\"Slope per decade for M2 at 100C: {slope_per_decade_M2_100:.2e} V/decade\")\n",
    "\n",
    "plt.show()"
   ]
  }
 ],
 "metadata": {
  "kernelspec": {
   "display_name": ".venv",
   "language": "python",
   "name": "python3"
  },
  "language_info": {
   "codemirror_mode": {
    "name": "ipython",
    "version": 3
   },
   "file_extension": ".py",
   "mimetype": "text/x-python",
   "name": "python",
   "nbconvert_exporter": "python",
   "pygments_lexer": "ipython3",
   "version": "3.12.5"
  }
 },
 "nbformat": 4,
 "nbformat_minor": 2
}
