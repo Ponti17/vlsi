{
 "cells": [
  {
   "cell_type": "markdown",
   "metadata": {},
   "source": [
    "# Mobility Degredation"
   ]
  },
  {
   "cell_type": "code",
   "execution_count": null,
   "metadata": {},
   "outputs": [],
   "source": [
    "from sympy.solvers import solve\n",
    "from sympy import Symbol\n",
    "import sympy as sp\n",
    "import numpy as np"
   ]
  },
  {
   "cell_type": "code",
   "execution_count": null,
   "metadata": {},
   "outputs": [],
   "source": [
    "def ueff_n(vgs, vt, tox):\n",
    "    \"\"\"\n",
    "    Calculate the effective mobility of an n-channel MOSFET\n",
    "\n",
    "    Args:\n",
    "        vgs (float): gate-source voltage\n",
    "        vt (float): threshold voltage\n",
    "        tox (float): oxide thickness\n",
    "    \"\"\"\n",
    "    num     = 540\n",
    "    den_num = vgs + vt\n",
    "    den_den = 0.54 * tox\n",
    "    den     = 1 + (den_num/den_den) ** 1.85\n",
    "    return num / den\n",
    "\n",
    "def ueff_p(vgs, vt, tox):\n",
    "    \"\"\"\n",
    "    Calculate the effective mobility of an p-channel MOSFET\n",
    "\n",
    "    vgs : float\n",
    "        gate-source voltage\n",
    "    vt : float\n",
    "        threshold voltage\n",
    "    tox : float\n",
    "        oxide thickness\n",
    "    \"\"\"\n",
    "    num     = 185\n",
    "    den_num = np.abs(vgs + 1.5 * vt)\n",
    "    den_den = 0.338 * tox\n",
    "    den     = 1 + (den_num/den_den)\n",
    "    return num / den\n",
    "\n",
    "def critical_voltage(vsat, ueff, L):\n",
    "    \"\"\"\n",
    "    Calculate the critical voltage of a MOSFET [V]\n",
    "\n",
    "    Args:\n",
    "        vsat (float): saturation velocity\n",
    "        ueff (float): effective mobility\n",
    "        L (float): channel length\n",
    "    \"\"\"\n",
    "    num = 2 * vsat\n",
    "    den = ueff\n",
    "    return (num / den) * L\n",
    "\n",
    "def angstrom_to_nano(angstrom):\n",
    "    return 0.1 * angstrom"
   ]
  },
  {
   "cell_type": "code",
   "execution_count": null,
   "metadata": {},
   "outputs": [],
   "source": [
    "tox = angstrom_to_nano(10.5)\n",
    "vt = 0.3\n",
    "vgs = [1, 0.5]\n",
    "\n",
    "for v in vgs:\n",
    "    print(f\"Vgs: {v}\")\n",
    "    u_n = ueff_n(v, vt, tox)\n",
    "    u_p = ueff_p(v, vt, tox)\n",
    "    print(f\"u_eff_n: {u_n}\")\n",
    "    print(f\"u_eff_p: {u_p}\")"
   ]
  },
  {
   "cell_type": "code",
   "execution_count": null,
   "metadata": {},
   "outputs": [],
   "source": [
    "vsat_n  = 1e7\n",
    "vsat_p  = 8e6\n",
    "tox     = angstrom_to_nano(10.5)\n",
    "vt      = 0.3\n",
    "vgs     = 1\n",
    "L       = 5e-6\n",
    "\n",
    "ueff_n_var = ueff_n(vgs, vt, tox)\n",
    "ueff_p_var = ueff_p(vgs, vt, tox)\n",
    "\n",
    "vcrit_n = critical_voltage(vsat_n, ueff_n_var, L)\n",
    "vcrit_p = critical_voltage(vsat_p, ueff_p_var, L)\n",
    "print(f\"Vcrit_n: {vcrit_n}\")\n",
    "print(f\"Vcrit_p: {vcrit_p}\")"
   ]
  },
  {
   "cell_type": "code",
   "execution_count": null,
   "metadata": {},
   "outputs": [],
   "source": [
    "def body_effect(vt0, vsb, gamma, phi):\n",
    "    \"\"\"\n",
    "    Calculate the body effect of a MOSFET [V]\n",
    "\n",
    "    Args:\n",
    "        vt0 (float): threshold voltage\n",
    "        vsb (float): source-body voltage\n",
    "        gamma (float): body effect parameter\n",
    "        phi (float): surface potential\n",
    "    \"\"\"\n",
    "    term = gamma * (sp.sqrt(phi + vsb) - sp.sqrt(phi))\n",
    "    return vt0 + term\n",
    "\n",
    "def surface_potential(vthermal, NA, ni):\n",
    "    \"\"\"\n",
    "    Calculate the surface potential of a MOSFET [V]\n",
    "\n",
    "    Args:\n",
    "        vthermal (float): thermal voltage\n",
    "        NA (float): channel doping level\n",
    "        ni (float): intrinsic carrier concentration\n",
    "    \"\"\"\n",
    "    return 2 * vthermal * sp.log(NA / ni)\n",
    "\n",
    "def gamma(tox, eox, q, esi, NA):\n",
    "    \"\"\"\n",
    "    Calculate the body effect parameter of a MOSFET\n",
    "\n",
    "    Args:\n",
    "        tox (float): oxide thickness\n",
    "        eox (float): oxide permittivity\n",
    "        q (float): electron charge\n",
    "        esi (float): silicon permittivity\n",
    "        NA (float): channel doping level\n",
    "    \"\"\"\n",
    "    return (tox / eox) * sp.sqrt(2 * q * esi * NA)"
   ]
  },
  {
   "cell_type": "code",
   "execution_count": null,
   "metadata": {},
   "outputs": [],
   "source": [
    "vt  = 0.3\n",
    "NA  = 8e17\n",
    "tox = angstrom_to_nano(10.5)\n",
    "\n",
    "# Constants\n",
    "esi = 11.68 * 8.85e-14 # F/cm\n",
    "eox = 3.9 * 8.85e-14 # F/cm\n",
    "ni  = 1.45e10 # cm^-3\n",
    "\n",
    "phi_s = surface_potential(0.0259, NA, ni)\n",
    "gamma_val = gamma(tox, eox, 1.6e-19, esi, NA)\n",
    "\n",
    "print(f\"Surface potential: {phi_s}\")\n",
    "print(f\"Gamma: {gamma_val}\")"
   ]
  }
 ],
 "metadata": {
  "kernelspec": {
   "display_name": ".venv",
   "language": "python",
   "name": "python3"
  },
  "language_info": {
   "codemirror_mode": {
    "name": "ipython",
    "version": 3
   },
   "file_extension": ".py",
   "mimetype": "text/x-python",
   "name": "python",
   "nbconvert_exporter": "python",
   "pygments_lexer": "ipython3",
   "version": "3.12.5"
  }
 },
 "nbformat": 4,
 "nbformat_minor": 2
}
